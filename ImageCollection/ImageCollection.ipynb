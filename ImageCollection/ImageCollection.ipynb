{
 "cells": [
  {
   "cell_type": "markdown",
   "id": "4581c8f3-ffbc-4d9a-b0fd-c77493643f86",
   "metadata": {},
   "source": [
    "# 1. Get all the image urls from Google Api"
   ]
  },
  {
   "cell_type": "markdown",
   "id": "0917101a-30b8-4b1e-b3f2-e8d5dd359a77",
   "metadata": {},
   "source": [
    "## Import libraries"
   ]
  },
  {
   "cell_type": "code",
   "execution_count": 62,
   "id": "e2a7e2f7-fc99-42e9-bf76-7b4536672088",
   "metadata": {},
   "outputs": [
    {
     "data": {
      "text/plain": [
       "True"
      ]
     },
     "execution_count": 62,
     "metadata": {},
     "output_type": "execute_result"
    }
   ],
   "source": [
    "import requests\n",
    "import json\n",
    "import boto3\n",
    "import os\n",
    "from time import sleep\n",
    "from dotenv import load_dotenv\n",
    "load_dotenv()"
   ]
  },
  {
   "cell_type": "code",
   "execution_count": 25,
   "id": "9032390a-e26c-4686-9839-929b36c0d68b",
   "metadata": {},
   "outputs": [],
   "source": [
    "URL = 'https://www.googleapis.com/customsearch/v1?searchType=image&key={key}&cx={engine_id}&q={query}&start={start_index}'"
   ]
  },
  {
   "cell_type": "code",
   "execution_count": 26,
   "id": "b1f6b6d4-7344-4a9f-9e8d-a22fa8082dc1",
   "metadata": {},
   "outputs": [],
   "source": [
    "def make_request(url: str, start_index: int) -> list:\n",
    "    result = None\n",
    "    try:\n",
    "        url = url.format(key=os.getenv('GOOGLE_API_KEY'), engine_id=os.getenv('SEARCH_ENGINE_ID'), query='person holding handgun', start_index=start_index)\n",
    "        req = requests.get(url)\n",
    "        result = req.json()\n",
    "    except:\n",
    "        print('...There was an error trying to make request...')\n",
    "    return result"
   ]
  },
  {
   "cell_type": "code",
   "execution_count": 27,
   "id": "388cb664-8e9a-48f6-92c3-96fd931bad10",
   "metadata": {},
   "outputs": [],
   "source": [
    "def get_next_ten_links(url: str, start_index: int):\n",
    "    ten_links = []\n",
    "    result = make_request(url, start_index) \n",
    "    if result:\n",
    "        for item in result['items']:\n",
    "            ten_links.append(item['link'])\n",
    "    return ten_links"
   ]
  },
  {
   "cell_type": "code",
   "execution_count": 31,
   "id": "629e13be-a670-41ca-b317-061ec26eb978",
   "metadata": {},
   "outputs": [],
   "source": [
    "def get_n_links(url: str, n: int) -> list:\n",
    "    n_links = []\n",
    "    for i in range(1, ((n // 10) + 1)):\n",
    "        next_ten_links = get_next_ten_links(url, i)\n",
    "        n_links.extend(next_ten_links)\n",
    "    return n_links"
   ]
  },
  {
   "cell_type": "code",
   "execution_count": 83,
   "id": "eeb78b39-ba33-47d4-b214-2858c8dcfaf9",
   "metadata": {},
   "outputs": [],
   "source": [
    "links = get_n_links(URL, 100)"
   ]
  },
  {
   "cell_type": "code",
   "execution_count": 84,
   "id": "1aad7415-89a6-46cb-8f75-e7e139fa8964",
   "metadata": {},
   "outputs": [
    {
     "data": {
      "text/plain": [
       "['https://st4.depositphotos.com/5624298/21776/i/1600/depositphotos_217765670-stock-photo-person-holding-handgun-isolated-white.jpg',\n",
       " 'https://previews.123rf.com/images/mblach/mblach1708/mblach170800008/83472592-armed-person-holding-handgun-wearing-dark-blue-jeans-and-hoodie-isolated-on-white-background-copy-sp.jpg',\n",
       " 'https://media.istockphoto.com/photos/hand-holding-a-handgun-profile-view-picture-id490288598',\n",
       " 'https://previews.123rf.com/images/sebra/sebra1411/sebra141100078/34035439-the-man-holding-a-gun.jpg',\n",
       " 'https://thumbs.dreamstime.com/z/athletic-topless-man-holding-handgun-against-white-half-body-shot-handsome-no-shirt-looking-to-left-84297686.jpg']"
      ]
     },
     "execution_count": 84,
     "metadata": {},
     "output_type": "execute_result"
    }
   ],
   "source": [
    "links[:5]"
   ]
  },
  {
   "cell_type": "code",
   "execution_count": 85,
   "id": "73df97fb-4d7a-4ee5-93ec-a7a115deadcb",
   "metadata": {},
   "outputs": [
    {
     "data": {
      "text/plain": [
       "100"
      ]
     },
     "execution_count": 85,
     "metadata": {},
     "output_type": "execute_result"
    }
   ],
   "source": [
    "len(links)"
   ]
  },
  {
   "cell_type": "code",
   "execution_count": 86,
   "id": "c4560d82-5171-4efd-a314-50a11f38d0f1",
   "metadata": {},
   "outputs": [],
   "source": [
    "links_object = json.dumps({'query': 'person holding handgun','links': links})"
   ]
  },
  {
   "cell_type": "markdown",
   "id": "d9e9bc68-e1eb-432f-9347-a8091deedc10",
   "metadata": {},
   "source": [
    "### Dump links to S3 bucket"
   ]
  },
  {
   "cell_type": "code",
   "execution_count": 88,
   "id": "46307aa1-24bc-4e2e-8338-11ed1b20fcfd",
   "metadata": {},
   "outputs": [
    {
     "name": "stdout",
     "output_type": "stream",
     "text": [
      "200\n"
     ]
    }
   ],
   "source": [
    "s3 = boto3.resource(\n",
    "        's3',\n",
    "        aws_access_key_id=os.getenv('AWS_ACCESS_KEY'), \n",
    "        aws_secret_access_key=os.getenv('AWS_SECRET_ACCESS_KEY')\n",
    ")\n",
    "res = s3.meta.client.put_object(\n",
    "    Body=links_object, \n",
    "    Bucket='afarhidevgeneraldata', \n",
    "    Key='handgun_links', \n",
    "    ACL='public-read'\n",
    ")\n",
    "print(res['ResponseMetadata']['HTTPStatusCode'])"
   ]
  },
  {
   "cell_type": "markdown",
   "id": "3054b0f9-6bcc-4f70-9651-6aa0594e5595",
   "metadata": {},
   "source": [
    "# 2. Download Images"
   ]
  },
  {
   "cell_type": "code",
   "execution_count": 89,
   "id": "6ec12129-467e-40ed-9cd5-fa015f270cc0",
   "metadata": {},
   "outputs": [],
   "source": [
    "def get_links_from_s3():\n",
    "    s3 = boto3.resource('s3',\n",
    "        aws_access_key_id=os.getenv('AWS_ACCESS_KEY'), \n",
    "        aws_secret_access_key=os.getenv('AWS_SECRET_ACCESS_KEY'))\n",
    "    obj = s3.meta.client.get_object(Bucket='afarhidevgeneraldata', Key='handgun_links')\n",
    "    return json.loads(obj['Body'].read().decode('utf-8'))"
   ]
  },
  {
   "cell_type": "markdown",
   "id": "be210ec4-3dbf-406e-ac51-63566afe96d9",
   "metadata": {},
   "source": [
    "## Download and store all the images in ImageCollection/images folder on local machine"
   ]
  },
  {
   "cell_type": "code",
   "execution_count": 96,
   "id": "141e5721-cebf-4585-b4dd-4111947c62e7",
   "metadata": {},
   "outputs": [],
   "source": [
    "import urllib.request\n",
    "\n",
    "# set headers of request opener\n",
    "opener = urllib.request.build_opener()\n",
    "opener.addheaders=[('User-Agent','Mozilla/5.0 (Windows NT 6.1; WOW64) AppleWebKit/537.36 (KHTML, like Gecko) Chrome/36.0.1941.0 Safari/537.36')]\n",
    "urllib.request.install_opener(opener)\n",
    "\n",
    "# download all the links\n",
    "json_obj = get_links_from_s3()\n",
    "num = 0\n",
    "for link in json_obj['links']:\n",
    "    file_name = f'ImageCollection/images/handgun_{num}.jpeg'\n",
    "    try:\n",
    "        urllib.request.urlretrieve(link, file_name)\n",
    "        num += 1\n",
    "    except Exception:\n",
    "        continue"
   ]
  }
 ],
 "metadata": {
  "kernelspec": {
   "display_name": "weapon-detection",
   "language": "python",
   "name": "weapon-detection"
  },
  "language_info": {
   "codemirror_mode": {
    "name": "ipython",
    "version": 3
   },
   "file_extension": ".py",
   "mimetype": "text/x-python",
   "name": "python",
   "nbconvert_exporter": "python",
   "pygments_lexer": "ipython3",
   "version": "3.8.8"
  }
 },
 "nbformat": 4,
 "nbformat_minor": 5
}
