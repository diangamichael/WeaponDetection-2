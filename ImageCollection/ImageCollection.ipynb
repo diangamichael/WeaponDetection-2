{
 "cells": [
  {
   "cell_type": "markdown",
   "source": [
    "# 1. Get all the image urls from Google Api"
   ],
   "metadata": {}
  },
  {
   "cell_type": "markdown",
   "source": [
    "## Import libraries"
   ],
   "metadata": {}
  },
  {
   "cell_type": "code",
   "execution_count": 62,
   "source": [
    "import requests\n",
    "import json\n",
    "import boto3\n",
    "import os\n",
    "from time import sleep\n",
    "from dotenv import load_dotenv\n",
    "load_dotenv()"
   ],
   "outputs": [
    {
     "output_type": "execute_result",
     "data": {
      "text/plain": [
       "True"
      ]
     },
     "metadata": {},
     "execution_count": 62
    }
   ],
   "metadata": {}
  },
  {
   "cell_type": "code",
   "execution_count": 25,
   "source": [
    "URL = 'https://www.googleapis.com/customsearch/v1?searchType=image&key={key}&cx={engine_id}&q={query}&start={start_index}'"
   ],
   "outputs": [],
   "metadata": {}
  },
  {
   "cell_type": "code",
   "execution_count": 26,
   "source": [
    "def make_request(url: str, start_index: int) -> list:\n",
    "    result = None\n",
    "    try:\n",
    "        url = url.format(key=os.getenv('GOOGLE_API_KEY'), engine_id=os.getenv('SEARCH_ENGINE_ID'), query='person holding handgun', start_index=start_index)\n",
    "        req = requests.get(url)\n",
    "        result = req.json()\n",
    "    except:\n",
    "        print('...There was an error trying to make request...')\n",
    "    return result"
   ],
   "outputs": [],
   "metadata": {}
  },
  {
   "cell_type": "code",
   "execution_count": 27,
   "source": [
    "def get_next_ten_links(url: str, start_index: int):\n",
    "    ten_links = []\n",
    "    result = make_request(url, start_index) \n",
    "    if result:\n",
    "        for item in result['items']:\n",
    "            ten_links.append(item['link'])\n",
    "    return ten_links"
   ],
   "outputs": [],
   "metadata": {}
  },
  {
   "cell_type": "code",
   "execution_count": 31,
   "source": [
    "def get_n_links(url: str, n: int) -> list:\n",
    "    n_links = []\n",
    "    for i in range(1, ((n // 10) + 1)):\n",
    "        next_ten_links = get_next_ten_links(url, i*10)\n",
    "        n_links.extend(next_ten_links)\n",
    "    return n_links"
   ],
   "outputs": [],
   "metadata": {}
  },
  {
   "cell_type": "code",
   "execution_count": 83,
   "source": [
    "links = get_n_links(URL, 100)"
   ],
   "outputs": [],
   "metadata": {}
  },
  {
   "cell_type": "code",
   "execution_count": 84,
   "source": [
    "links[:5]"
   ],
   "outputs": [
    {
     "output_type": "execute_result",
     "data": {
      "text/plain": [
       "['https://st4.depositphotos.com/5624298/21776/i/1600/depositphotos_217765670-stock-photo-person-holding-handgun-isolated-white.jpg',\n",
       " 'https://previews.123rf.com/images/mblach/mblach1708/mblach170800008/83472592-armed-person-holding-handgun-wearing-dark-blue-jeans-and-hoodie-isolated-on-white-background-copy-sp.jpg',\n",
       " 'https://media.istockphoto.com/photos/hand-holding-a-handgun-profile-view-picture-id490288598',\n",
       " 'https://previews.123rf.com/images/sebra/sebra1411/sebra141100078/34035439-the-man-holding-a-gun.jpg',\n",
       " 'https://thumbs.dreamstime.com/z/athletic-topless-man-holding-handgun-against-white-half-body-shot-handsome-no-shirt-looking-to-left-84297686.jpg']"
      ]
     },
     "metadata": {},
     "execution_count": 84
    }
   ],
   "metadata": {}
  },
  {
   "cell_type": "code",
   "execution_count": 85,
   "source": [
    "len(links)"
   ],
   "outputs": [
    {
     "output_type": "execute_result",
     "data": {
      "text/plain": [
       "100"
      ]
     },
     "metadata": {},
     "execution_count": 85
    }
   ],
   "metadata": {}
  },
  {
   "cell_type": "code",
   "execution_count": 86,
   "source": [
    "links_object = json.dumps({'query': 'person holding handgun','links': links})"
   ],
   "outputs": [],
   "metadata": {}
  },
  {
   "cell_type": "markdown",
   "source": [
    "### Dump links to S3 bucket"
   ],
   "metadata": {}
  },
  {
   "cell_type": "code",
   "execution_count": 88,
   "source": [
    "s3 = boto3.resource(\n",
    "        's3',\n",
    "        aws_access_key_id=os.getenv('AWS_ACCESS_KEY'), \n",
    "        aws_secret_access_key=os.getenv('AWS_SECRET_ACCESS_KEY')\n",
    ")\n",
    "res = s3.meta.client.put_object(\n",
    "    Body=links_object, \n",
    "    Bucket='afarhidevgeneraldata', \n",
    "    Key='handgun_links', \n",
    "    ACL='public-read'\n",
    ")\n",
    "print(res['ResponseMetadata']['HTTPStatusCode'])"
   ],
   "outputs": [
    {
     "output_type": "stream",
     "name": "stdout",
     "text": [
      "200\n"
     ]
    }
   ],
   "metadata": {}
  },
  {
   "cell_type": "markdown",
   "source": [
    "# 2. Download Images"
   ],
   "metadata": {}
  },
  {
   "cell_type": "code",
   "execution_count": 89,
   "source": [
    "def get_links_from_s3():\n",
    "    s3 = boto3.resource('s3',\n",
    "        aws_access_key_id=os.getenv('AWS_ACCESS_KEY'), \n",
    "        aws_secret_access_key=os.getenv('AWS_SECRET_ACCESS_KEY'))\n",
    "    obj = s3.meta.client.get_object(Bucket='afarhidevgeneraldata', Key='handgun_links')\n",
    "    return json.loads(obj['Body'].read().decode('utf-8'))"
   ],
   "outputs": [],
   "metadata": {}
  },
  {
   "cell_type": "markdown",
   "source": [
    "## Download and store all the images in ImageCollection/images folder on local machine"
   ],
   "metadata": {}
  },
  {
   "cell_type": "code",
   "execution_count": 96,
   "source": [
    "import urllib.request\n",
    "\n",
    "# set headers of request opener\n",
    "opener = urllib.request.build_opener()\n",
    "opener.addheaders=[('User-Agent','Mozilla/5.0 (Windows NT 6.1; WOW64) AppleWebKit/537.36 (KHTML, like Gecko) Chrome/36.0.1941.0 Safari/537.36')]\n",
    "urllib.request.install_opener(opener)\n",
    "\n",
    "# download all the links\n",
    "json_obj = get_links_from_s3()\n",
    "num = 0\n",
    "for link in json_obj['links']:\n",
    "    file_name = f'ImageCollection/images/handgun_{num}.jpeg'\n",
    "    try:\n",
    "        urllib.request.urlretrieve(link, file_name)\n",
    "        num += 1\n",
    "    except Exception:\n",
    "        continue"
   ],
   "outputs": [],
   "metadata": {}
  }
 ],
 "metadata": {
  "kernelspec": {
   "display_name": "weapon-detection",
   "language": "python",
   "name": "weapon-detection"
  },
  "language_info": {
   "codemirror_mode": {
    "name": "ipython",
    "version": 3
   },
   "file_extension": ".py",
   "mimetype": "text/x-python",
   "name": "python",
   "nbconvert_exporter": "python",
   "pygments_lexer": "ipython3",
   "version": "3.8.8"
  }
 },
 "nbformat": 4,
 "nbformat_minor": 5
}